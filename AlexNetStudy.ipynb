{
 "cells": [
  {
   "cell_type": "code",
   "execution_count": null,
   "id": "5d004e17-c8e7-4df3-bd71-501b8fc07251",
   "metadata": {},
   "outputs": [],
   "source": [
    "import torch\n",
    "import torch.nn as nn\n",
    "import torch.optim as optim\n",
    "import torchvision\n",
    "import torchvision.transforms as transforms\n",
    "import matplotlib.pyplot as plt\n",
    "import numpy as np\n",
    "from torch.utils.data import DataLoader"
   ]
  },
  {
   "cell_type": "code",
   "execution_count": null,
   "id": "40fc0313-412e-44fa-9a87-6c2c7b060b72",
   "metadata": {},
   "outputs": [],
   "source": [
    "#hyperparameters\n",
    "epochs = 50\n",
    "batch_size = 64\n",
    "learning_rate = 0.0001\n",
    "activation_function = nn.ReLU  #change to leakryrelu or sigmioid or relu"
   ]
  },
  {
   "cell_type": "code",
   "execution_count": null,
   "id": "1a801beb-5344-4fc6-a721-408e28eeca65",
   "metadata": {},
   "outputs": [],
   "source": [
    "#data preprocessing\n",
    "transform = transforms.Compose([\n",
    "    transforms.RandomHorizontalFlip(),\n",
    "    transforms.RandomCrop(32, padding=4),\n",
    "    transforms.ToTensor(),\n",
    "    transforms.Normalize((0.5, 0.5, 0.5), (0.5, 0.5, 0.5))\n",
    "])"
   ]
  },
  {
   "cell_type": "code",
   "execution_count": null,
   "id": "51f19de2-c7ea-4a32-9dd9-af5eb3ca2797",
   "metadata": {},
   "outputs": [],
   "source": [
    "trainset = torchvision.datasets.CIFAR10(root='./data', train=True, download=True, transform=transform)\n",
    "trainloader = DataLoader(trainset, batch_size=batch_size, shuffle=True, num_workers=2)\n",
    "\n",
    "testset = torchvision.datasets.CIFAR10(root='./data', train=False, download=True, transform=transform)\n",
    "testloader = DataLoader(testset, batch_size=batch_size, shuffle=False, num_workers=2)"
   ]
  },
  {
   "cell_type": "code",
   "execution_count": null,
   "id": "a06e2d21-fe8a-48f8-b43b-12be94d1d72e",
   "metadata": {},
   "outputs": [],
   "source": [
    "#alexnet model\n",
    "class AlexNet(nn.Module):\n",
    "    def __init__(self, activation_fn=nn.ReLU):\n",
    "        super(AlexNet, self).__init__()\n",
    "        self.features = nn.Sequential(\n",
    "            nn.Conv2d(3, 64, kernel_size=3, stride=1, padding=1),\n",
    "            activation_fn(),\n",
    "            nn.MaxPool2d(kernel_size=2, stride=2),\n",
    "            \n",
    "            nn.Conv2d(64, 192, kernel_size=3, padding=1),\n",
    "            activation_fn(),\n",
    "            nn.MaxPool2d(kernel_size=2, stride=2),\n",
    "            \n",
    "            nn.Conv2d(192, 384, kernel_size=3, padding=1),\n",
    "            activation_fn(),\n",
    "            \n",
    "            nn.Conv2d(384, 256, kernel_size=3, padding=1),\n",
    "            activation_fn(),\n",
    "            \n",
    "            nn.Conv2d(256, 256, kernel_size=3, padding=1),\n",
    "            activation_fn(),\n",
    "            nn.MaxPool2d(kernel_size=2, stride=2)\n",
    "        )\n",
    "        self.classifier = nn.Sequential(\n",
    "            nn.Dropout(0.6),\n",
    "            nn.Linear(256 * 4 * 4, 4096),\n",
    "            activation_fn(),\n",
    "            nn.Dropout(0.6),\n",
    "            nn.Linear(4096, 4096),\n",
    "            activation_fn(),\n",
    "            nn.Linear(4096, 10)\n",
    "        )\n",
    "    \n",
    "    def forward(self, x):\n",
    "        x = self.features(x)\n",
    "        x = torch.flatten(x, 1)\n",
    "        x = self.classifier(x)\n",
    "        return x\n",
    "\n",
    "model = AlexNet(activation_function).to(torch.device(\"cuda\" if torch.cuda.is_available() else \"cpu\"))\n",
    "\n",
    "#loss + optimizer\n",
    "criterion = nn.CrossEntropyLoss()\n",
    "optimizer = optim.Adam(model.parameters(), lr=learning_rate)"
   ]
  },
  {
   "cell_type": "code",
   "execution_count": null,
   "id": "dc1eb416-449f-424f-9bfc-5a8135b6f122",
   "metadata": {},
   "outputs": [],
   "source": [
    "#training loop\n",
    "def train_model():\n",
    "    for epoch in range(epochs):\n",
    "        running_loss = 0.0\n",
    "        for i, (inputs, labels) in enumerate(trainloader, 0):\n",
    "            inputs, labels = inputs.to(torch.device(\"cuda\" if torch.cuda.is_available() else \"cpu\")), labels.to(torch.device(\"cuda\" if torch.cuda.is_available() else \"cpu\"))\n",
    "            optimizer.zero_grad()\n",
    "            outputs = model(inputs)\n",
    "            loss = criterion(outputs, labels)\n",
    "            loss.backward()\n",
    "            optimizer.step()\n",
    "            running_loss += loss.item()\n",
    "        print(f\"Epoch {epoch+1}, Loss: {running_loss/len(trainloader):.4f}\")"
   ]
  },
  {
   "cell_type": "code",
   "execution_count": null,
   "id": "b7c1177d-0345-4a51-8934-e09c969e2c87",
   "metadata": {},
   "outputs": [],
   "source": [
    "# testing\n",
    "def test_model():\n",
    "    correct = 0\n",
    "    total = 0\n",
    "    with torch.no_grad():\n",
    "        for inputs, labels in testloader:\n",
    "            inputs, labels = inputs.to(torch.device(\"cuda\" if torch.cuda.is_available() else \"cpu\")), labels.to(torch.device(\"cuda\" if torch.cuda.is_available() else \"cpu\"))\n",
    "            outputs = model(inputs)\n",
    "            _, predicted = torch.max(outputs, 1)\n",
    "            total += labels.size(0)\n",
    "            correct += (predicted == labels).sum().item()\n",
    "    print(f'Accuracy: {100 * correct / total:.2f}%')"
   ]
  },
  {
   "cell_type": "code",
   "execution_count": null,
   "id": "0d46bc8c-be9e-44f8-a276-215b9257b454",
   "metadata": {},
   "outputs": [],
   "source": [
    "train_model()\n",
    "test_model()"
   ]
  }
 ],
 "metadata": {
  "kernelspec": {
   "display_name": "Python 3 (ipykernel)",
   "language": "python",
   "name": "python3"
  },
  "language_info": {
   "codemirror_mode": {
    "name": "ipython",
    "version": 3
   },
   "file_extension": ".py",
   "mimetype": "text/x-python",
   "name": "python",
   "nbconvert_exporter": "python",
   "pygments_lexer": "ipython3",
   "version": "3.11.9"
  }
 },
 "nbformat": 4,
 "nbformat_minor": 5
}
